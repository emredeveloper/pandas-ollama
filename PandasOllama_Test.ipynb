{
 "cells": [
  {
   "cell_type": "markdown",
   "id": "4719ed92",
   "metadata": {},
   "source": [
    "# PandasOllama Kütüphanesi Test Notebook'u - Genel CSV Desteği\n",
    "\n",
    "Bu notebook, PandasOllama kütüphanesinin herhangi bir CSV veri yapısı ile nasıl kullanılacağını göstermektedir."
   ]
  },
  {
   "cell_type": "code",
   "execution_count": null,
   "id": "46ebcebd",
   "metadata": {},
   "outputs": [],
   "source": [
    "# Gerekli kütüphaneleri içe aktar\n",
    "import pandas as pd\n",
    "import matplotlib.pyplot as plt\n",
    "import seaborn as sns\n",
    "import time  # Zaman ölçümü için\n",
    "import sys\n",
    "import os\n",
    "import warnings\n",
    "\n",
    "# Uyarıları bastır\n",
    "warnings.filterwarnings('ignore', category=UserWarning)\n",
    "\n",
    "# Modülü yükle\n",
    "module_path = os.path.abspath(os.path.join(os.getcwd(), '..'))\n",
    "if module_path not in sys.path:\n",
    "    sys.path.append(module_path)\n",
    "\n",
    "# PandasOllama kütüphanesini içe aktar\n",
    "try:\n",
    "    from pandas_ollama import MyPandasAI\n",
    "except ImportError:\n",
    "    # Try to import as installed package\n",
    "    from pandas_ollama.core import MyPandasAI"
   ]
  },
  {
   "cell_type": "markdown",
   "id": "182c9a2f",
   "metadata": {},
   "source": [
    "## Diagnostics - Görselleştirme Testi\n",
    "\n",
    "Aşağıdaki hücre, notebook içinde görselleştirmelerin düzgün çalışıp çalışmadığını kontrol eder."
   ]
  },
  {
   "cell_type": "code",
   "execution_count": 2,
   "id": "5f730106",
   "metadata": {},
   "outputs": [
    {
     "data": {
      "image/png": "[encoded data removed]",
      "text/plain": [
       "<Figure size 800x500 with 1 Axes>"
      ]
     },
     "metadata": {},
     "output_type": "display_data"
    },
    {
     "name": "stdout",
     "output_type": "stream",
     "text": [
      "Görselleştirme testi tamamlandı. Grafik görünüyor mu?\n"
     ]
    }
   ],
   "source": [
    "# Doğrudan matplotlib ile görselleştirme testi\n",
    "plt.figure(figsize=(8, 5))\n",
    "plt.plot([1, 2, 3, 4], [10, 20, 25, 30], 'o-', color='blue')\n",
    "plt.title('Görselleştirme Test Grafiği')\n",
    "plt.xlabel('X Ekseni')\n",
    "plt.ylabel('Y Ekseni')\n",
    "plt.grid(True)\n",
    "plt.show()\n",
    "\n",
    "# Eğer yukarıdaki grafik görünüyorsa, matplotlib çalışıyor demektir.\n",
    "print('Görselleştirme testi tamamlandı. Grafik görünüyor mu?')"
   ]
  },
  {
   "cell_type": "markdown",
   "id": "e7cc4045",
   "metadata": {},
   "source": [
    "## 1. Örnek Veri Seti Oluşturma - Satış Verileri\n",
    "\n",
    "Önce basit bir satış verisini test edelim:"
   ]
  },
  {
   "cell_type": "code",
   "execution_count": 3,
   "id": "4d0e1241",
   "metadata": {},
   "outputs": [
    {
     "data": {
      "application/vnd.microsoft.datawrangler.viewer.v0+json": {
       "columns": [
        {
         "name": "index",
         "rawType": "int64",
         "type": "integer"
        },
        {
         "name": "Product",
         "rawType": "object",
         "type": "string"
        },
        {
         "name": "Category",
         "rawType": "object",
         "type": "string"
        },
        {
         "name": "Price",
         "rawType": "int64",
         "type": "integer"
        },
        {
         "name": "Stock",
         "rawType": "int64",
         "type": "integer"
        },
        {
         "name": "Rating",
         "rawType": "float64",
         "type": "float"
        },
        {
         "name": "SaleCount",
         "rawType": "int64",
         "type": "integer"
        }
       ],
       "conversionMethod": "pd.DataFrame",
       "ref": "19fe3bf9-d39f-4b36-ad08-ea17539f7e82",
       "rows": [
        [
         "0",
         "Laptop",
         "Bilgisayar",
         "5000",
         "45",
         "4.5",
         "250"
        ],
        [
         "1",
         "Telefon",
         "Telefon",
         "7500",
         "120",
         "4.8",
         "380"
        ],
        [
         "2",
         "Tablet",
         "Tablet",
         "3000",
         "78",
         "4.2",
         "120"
        ],
        [
         "3",
         "Monitör",
         "Bilgisayar",
         "2000",
         "30",
         "4.0",
         "85"
        ],
        [
         "4",
         "Klavye",
         "Bilgisayar",
         "500",
         "200",
         "3.9",
         "290"
        ],
        [
         "5",
         "Mouse",
         "Bilgisayar",
         "250",
         "250",
         "4.7",
         "320"
        ],
        [
         "6",
         "Kulaklık",
         "Ses",
         "1000",
         "80",
         "4.1",
         "150"
        ],
        [
         "7",
         "Şarj Aleti",
         "Aksesuar",
         "150",
         "300",
         "3.5",
         "400"
        ],
        [
         "8",
         "Kamera",
         "Fotoğraf",
         "3500",
         "25",
         "4.6",
         "60"
        ],
        [
         "9",
         "Hoparlör",
         "Ses",
         "750",
         "50",
         "4.3",
         "95"
        ]
       ],
       "shape": {
        "columns": 6,
        "rows": 10
       }
      },
      "text/html": [
       "<div>\n",
       "<style scoped>\n",
       "    .dataframe tbody tr th:only-of-type {\n",
       "        vertical-align: middle;\n",
       "    }\n",
       "\n",
       "    .dataframe tbody tr th {\n",
       "        vertical-align: top;\n",
       "    }\n",
       "\n",
       "    .dataframe thead th {\n",
       "        text-align: right;\n",
       "    }\n",
       "</style>\n",
       "<table border=\"1\" class=\"dataframe\">\n",
       "  <thead>\n",
       "    <tr style=\"text-align: right;\">\n",
       "      <th></th>\n",
       "      <th>Product</th>\n",
       "      <th>Category</th>\n",
       "      <th>Price</th>\n",
       "      <th>Stock</th>\n",
       "      <th>Rating</th>\n",
       "      <th>SaleCount</th>\n",
       "    </tr>\n",
       "  </thead>\n",
       "  <tbody>\n",
       "    <tr>\n",
       "      <th>0</th>\n",
       "      <td>Laptop</td>\n",
       "      <td>Bilgisayar</td>\n",
       "      <td>5000</td>\n",
       "      <td>45</td>\n",
       "      <td>4.5</td>\n",
       "      <td>250</td>\n",
       "    </tr>\n",
       "    <tr>\n",
       "      <th>1</th>\n",
       "      <td>Telefon</td>\n",
       "      <td>Telefon</td>\n",
       "      <td>7500</td>\n",
       "      <td>120</td>\n",
       "      <td>4.8</td>\n",
       "      <td>380</td>\n",
       "    </tr>\n",
       "    <tr>\n",
       "      <th>2</th>\n",
       "      <td>Tablet</td>\n",
       "      <td>Tablet</td>\n",
       "      <td>3000</td>\n",
       "      <td>78</td>\n",
       "      <td>4.2</td>\n",
       "      <td>120</td>\n",
       "    </tr>\n",
       "    <tr>\n",
       "      <th>3</th>\n",
       "      <td>Monitör</td>\n",
       "      <td>Bilgisayar</td>\n",
       "      <td>2000</td>\n",
       "      <td>30</td>\n",
       "      <td>4.0</td>\n",
       "      <td>85</td>\n",
       "    </tr>\n",
       "    <tr>\n",
       "      <th>4</th>\n",
       "      <td>Klavye</td>\n",
       "      <td>Bilgisayar</td>\n",
       "      <td>500</td>\n",
       "      <td>200</td>\n",
       "      <td>3.9</td>\n",
       "      <td>290</td>\n",
       "    </tr>\n",
       "    <tr>\n",
       "      <th>5</th>\n",
       "      <td>Mouse</td>\n",
       "      <td>Bilgisayar</td>\n",
       "      <td>250</td>\n",
       "      <td>250</td>\n",
       "      <td>4.7</td>\n",
       "      <td>320</td>\n",
       "    </tr>\n",
       "    <tr>\n",
       "      <th>6</th>\n",
       "      <td>Kulaklık</td>\n",
       "      <td>Ses</td>\n",
       "      <td>1000</td>\n",
       "      <td>80</td>\n",
       "      <td>4.1</td>\n",
       "      <td>150</td>\n",
       "    </tr>\n",
       "    <tr>\n",
       "      <th>7</th>\n",
       "      <td>Şarj Aleti</td>\n",
       "      <td>Aksesuar</td>\n",
       "      <td>150</td>\n",
       "      <td>300</td>\n",
       "      <td>3.5</td>\n",
       "      <td>400</td>\n",
       "    </tr>\n",
       "    <tr>\n",
       "      <th>8</th>\n",
       "      <td>Kamera</td>\n",
       "      <td>Fotoğraf</td>\n",
       "      <td>3500</td>\n",
       "      <td>25</td>\n",
       "      <td>4.6</td>\n",
       "      <td>60</td>\n",
       "    </tr>\n",
       "    <tr>\n",
       "      <th>9</th>\n",
       "      <td>Hoparlör</td>\n",
       "      <td>Ses</td>\n",
       "      <td>750</td>\n",
       "      <td>50</td>\n",
       "      <td>4.3</td>\n",
       "      <td>95</td>\n",
       "    </tr>\n",
       "  </tbody>\n",
       "</table>\n",
       "</div>"
      ],
      "text/plain": [
       "      Product    Category  Price  Stock  Rating  SaleCount\n",
       "0      Laptop  Bilgisayar   5000     45     4.5        250\n",
       "1     Telefon     Telefon   7500    120     4.8        380\n",
       "2      Tablet      Tablet   3000     78     4.2        120\n",
       "3     Monitör  Bilgisayar   2000     30     4.0         85\n",
       "4      Klavye  Bilgisayar    500    200     3.9        290\n",
       "5       Mouse  Bilgisayar    250    250     4.7        320\n",
       "6    Kulaklık         Ses   1000     80     4.1        150\n",
       "7  Şarj Aleti    Aksesuar    150    300     3.5        400\n",
       "8      Kamera    Fotoğraf   3500     25     4.6         60\n",
       "9    Hoparlör         Ses    750     50     4.3         95"
      ]
     },
     "execution_count": 3,
     "metadata": {},
     "output_type": "execute_result"
    }
   ],
   "source": [
    "# Örnek veri seti - satış verileri\n",
    "sales_data = {\n",
    "    'Product': ['Laptop', 'Telefon', 'Tablet', 'Monitör', 'Klavye', 'Mouse', 'Kulaklık', 'Şarj Aleti', 'Kamera', 'Hoparlör'],\n",
    "    'Category': ['Bilgisayar', 'Telefon', 'Tablet', 'Bilgisayar', 'Bilgisayar', 'Bilgisayar', 'Ses', 'Aksesuar', 'Fotoğraf', 'Ses'],\n",
    "    'Price': [5000, 7500, 3000, 2000, 500, 250, 1000, 150, 3500, 750],\n",
    "    'Stock': [45, 120, 78, 30, 200, 250, 80, 300, 25, 50],\n",
    "    'Rating': [4.5, 4.8, 4.2, 4.0, 3.9, 4.7, 4.1, 3.5, 4.6, 4.3],\n",
    "    'SaleCount': [250, 380, 120, 85, 290, 320, 150, 400, 60, 95]\n",
    "}\n",
    "\n",
    "df_sales = pd.DataFrame(sales_data)\n",
    "df_sales"
   ]
  },
  {
   "cell_type": "code",
   "execution_count": 4,
   "id": "98d1a597",
   "metadata": {},
   "outputs": [],
   "source": [
    "# MyPandasAI nesnesi oluştur (satış verileri için)\n",
    "panoll_sales = MyPandasAI(df_sales, \n",
    "                         model=\"qwen2.5:7b\",   # Kullanılacak model\n",
    "                         timeout=30,              # API çağrısı için zaman aşımı (saniye)\n",
    "                         max_rows=50,             # Context için max satır sayısı\n",
    "                         cache_size=20,           # Önbellek büyüklüğü\n",
    "                         save_history=False       # Geçmiş kaydetme kapalı\n",
    "                        )"
   ]
  },
  {
   "cell_type": "markdown",
   "id": "b7d1d7e0",
   "metadata": {},
   "source": [
    "## Veri Analizi - Satış Verileri\n",
    "\n",
    "### Temel Soru-Cevap - Sonuç Gösterimi İyileştirildi"
   ]
  },
  {
   "cell_type": "code",
   "execution_count": null,
   "id": "79d50c6f",
   "metadata": {},
   "outputs": [],
   "source": [
    "# Önbelleği temizle (önceki sonuçları kullanmamak için)\n",
    "panoll_sales.clear_cache()\n",
    "\n",
    "# Çalışma süresini ölç\n",
    "start_time = time.time()\n",
    "\n",
    "# Basit bir soru sor\n",
    "result = panoll_sales.ask(\"Bu veri setindeki ürünlerin ortalama fiyatı nedir?\")\n",
    "\n",
    "# Sonuçları görüntüle\n",
    "print(f\"Sorgu süresi: {time.time() - start_time:.2f} saniye\\n\")\n",
    "print(result.content)"
   ]
  },
  {
   "cell_type": "code",
   "execution_count": null,
   "id": "f422f04c",
   "metadata": {},
   "outputs": [],
   "source": [
    "# Daha net ve doğrudan sonuçlar için alternatif sorgu yöntemi\n",
    "start_time = time.time()\n",
    "\n",
    "# Doğrudan hesaplama işlemleri için özel sorgu formatı\n",
    "result = panoll_sales.ask(\"Veri setindeki ürünlerin ortalama fiyatını hesapla ve sonucu göster\")\n",
    "\n",
    "# Sonuçları görüntüle\n",
    "print(f\"Sorgu süresi: {time.time() - start_time:.2f} saniye\\n\")\n",
    "print(result.content)\n",
    "\n",
    "# Kod kısmını da göster (opsiyonel)\n",
    "if result.code:\n",
    "    print(\"\\nKullanılan kod:\")\n",
    "    print(f\"```python\\n{result.code}\\n```\")"
   ]
  },
  {
   "cell_type": "markdown",
   "id": "cae28a88",
   "metadata": {},
   "source": [
    "### Görselleştirme"
   ]
  },
  {
   "cell_type": "code",
   "execution_count": null,
   "id": "963c0a08",
   "metadata": {},
   "outputs": [],
   "source": [
    "# Görselleştirme ile analiz\n",
    "result = panoll_sales.analyze(\"Kategorilere göre toplam satış miktarlarını analiz et\", viz_type=\"bar\")\n",
    "\n",
    "# Sonuçları görüntüle\n",
    "print(result.content)\n",
    "\n",
    "# Görselleştirmeyi görüntüle\n",
    "if result.visualization:\n",
    "    import base64\n",
    "    from IPython.display import Image\n",
    "    image_data = base64.b64decode(result.visualization)\n",
    "    Image(data=image_data)"
   ]
  },
  {
   "cell_type": "code",
   "execution_count": null,
   "id": "d1c2c9ae",
   "metadata": {},
   "outputs": [],
   "source": [
    "# Görselleştirmenin doğru şekilde çalıştığını kontrol et\n",
    "if result.visualization:\n",
    "    import base64\n",
    "    from IPython.display import display, Image\n",
    "    \n",
    "    # Base64 verinin uzunluğunu kontrol et\n",
    "    print(f\"Base64 veri uzunluğu: {len(result.visualization)} karakter\")\n",
    "    \n",
    "    # Alternatif görüntüleme yöntemi\n",
    "    print(\"Alternatif görüntüleme yöntemi:\")  \n",
    "    image_data = base64.b64decode(result.visualization)\n",
    "    display(Image(data=image_data))\n",
    "    \n",
    "    # Dosyaya kaydet ve oradan göster\n",
    "    with open('temp_viz.png', 'wb') as f:\n",
    "        f.write(image_data)\n",
    "    print(\"Görselleştirme 'temp_viz.png' dosyasına kaydedildi.\")\n",
    "    \n",
    "    # Dosyadan görüntüle\n",
    "    display(Image(filename='temp_viz.png'))\n",
    "else:\n",
    "    print(\"Görselleştirme verisi bulunamadı!\")"
   ]
  },
  {
   "cell_type": "markdown",
   "id": "05ae5d44",
   "metadata": {},
   "source": [
    "### Farklı Görselleştirme Türleri"
   ]
  },
  {
   "cell_type": "code",
   "execution_count": null,
   "id": "c5b68a14",
   "metadata": {},
   "outputs": [],
   "source": [
    "# Dağılım grafiği (scatter plot)\n",
    "result = panoll_sales.plot(\"Stok miktarı ve satış sayısı arasındaki ilişkiyi göster\", viz_type=\"scatter\")\n",
    "\n",
    "# Görselleştirmeyi görüntüle\n",
    "if result.visualization:\n",
    "    import base64\n",
    "    from IPython.display import display, Image\n",
    "    image_data = base64.b64decode(result.visualization)\n",
    "    display(Image(data=image_data))\n",
    "else:\n",
    "    print(\"Görselleştirme verisi bulunamadı!\")"
   ]
  },
  {
   "cell_type": "code",
   "execution_count": null,
   "id": "9cf63754",
   "metadata": {},
   "outputs": [],
   "source": [
    "# Histogram\n",
    "result = panoll_sales.plot(\"Fiyat dağılımını göster\", viz_type=\"hist\")\n",
    "\n",
    "# Görselleştirmeyi görüntüle\n",
    "if result.visualization:\n",
    "    import base64\n",
    "    from IPython.display import Image\n",
    "    image_data = base64.b64decode(result.visualization)\n",
    "    Image(data=image_data)"
   ]
  },
  {
   "cell_type": "markdown",
   "id": "689a5952",
   "metadata": {},
   "source": [
    "## 2. Farklı Veri Tipi - Kişisel Bilgiler\n",
    "\n",
    "Şimdi tamamen farklı bir veri yapısı kullanalım ve kütüphanenin esnekliğini test edelim:"
   ]
  },
  {
   "cell_type": "code",
   "execution_count": null,
   "id": "c66d0e67",
   "metadata": {},
   "outputs": [],
   "source": [
    "# Farklı bir veri seti - kişisel bilgiler\n",
    "personal_data = {\n",
    "    'Name': ['John Smith', 'Emma Johnson', 'Michael Brown', 'Olivia Davis', 'William Wilson',\n",
    "             'Sophia Taylor', 'James Anderson', 'Isabella Thomas', 'Robert Jackson', 'Mia White'],\n",
    "    'Age': [35, 28, 42, 31, 45, 29, 38, 27, 52, 33],\n",
    "    'City': ['New York', 'Los Angeles', 'Chicago', 'Houston', 'Phoenix', \n",
    "             'Philadelphia', 'San Antonio', 'San Diego', 'Dallas', 'San Jose'],\n",
    "    'Occupation': ['Engineer', 'Teacher', 'Doctor', 'Artist', 'Scientist',\n",
    "                  'Lawyer', 'Accountant', 'Writer', 'Chef', 'Architect'],\n",
    "    'Salary': [85000, 52000, 120000, 48000, 95000, 110000, 75000, 65000, 70000, 88000],\n",
    "    'YearsExperience': [10, 5, 15, 8, 20, 7, 12, 4, 25, 9]\n",
    "}\n",
    "\n",
    "df_personal = pd.DataFrame(personal_data)\n",
    "df_personal"
   ]
  },
  {
   "cell_type": "code",
   "execution_count": null,
   "id": "16816f15",
   "metadata": {},
   "outputs": [],
   "source": [
    "# MyPandasAI nesnesi oluştur (kişisel veriler için)\n",
    "panoll_personal = MyPandasAI(df_personal, \n",
    "                            model=\"llama3:latest\", \n",
    "                            timeout=30, \n",
    "                            save_history=False)"
   ]
  },
  {
   "cell_type": "code",
   "execution_count": null,
   "id": "ad172c1d",
   "metadata": {},
   "outputs": [],
   "source": [
    "# Farklı veri seti ile analiz\n",
    "result = panoll_personal.ask(\"Bu veri setindeki kişilerin ortalama yaşı ve maaşı nedir?\")\n",
    "print(result.content)"
   ]
  },
  {
   "cell_type": "code",
   "execution_count": null,
   "id": "4d9935b4",
   "metadata": {},
   "outputs": [],
   "source": [
    "# Veri dönüşümü - farklı veri seti ile\n",
    "filtered_df = panoll_personal.transform(\"Maaşı 80000'den fazla olan kişileri göster\")\n",
    "filtered_df"
   ]
  },
  {
   "cell_type": "code",
   "execution_count": null,
   "id": "b8639547",
   "metadata": {},
   "outputs": [],
   "source": [
    "# Görselleştirme - farklı veri seti ile\n",
    "result = panoll_personal.plot(\"Maaşlar ve iş tecrübesi arasındaki ilişkiyi göster\", viz_type=\"scatter\")\n",
    "\n",
    "# Görselleştirmeyi görüntüle\n",
    "if result.visualization:\n",
    "    import base64\n",
    "    from IPython.display import display, Image\n",
    "    image_data = base64.b64decode(result.visualization)\n",
    "    display(Image(data=image_data))\n",
    "else:\n",
    "    print(\"Görselleştirme verisi bulunamadı!\")"
   ]
  },
  {
   "cell_type": "code",
   "execution_count": null,
   "id": "1007e626",
   "metadata": {},
   "outputs": [],
   "source": [
    "# Yeni eklenen görselleştirme türlerini test edelim\n",
    "# Kategorik sütun sayımı (count plot)\n",
    "result = panoll_personal.plot(\"Mesleklere göre kişi sayılarını göster\", viz_type=\"count\")\n",
    "\n",
    "if result.visualization:\n",
    "    import base64\n",
    "    from IPython.display import display, Image\n",
    "    image_data = base64.b64decode(result.visualization)\n",
    "    display(Image(data=image_data))\n",
    "else:\n",
    "    print(\"Görselleştirme verisi bulunamadı!\")"
   ]
  },
  {
   "cell_type": "code",
   "execution_count": null,
   "id": "c6bd540a",
   "metadata": {},
   "outputs": [],
   "source": [
    "# Kutu grafiği (box plot)\n",
    "result = panoll_personal.plot(\"Mesleklere göre maaş dağılımını kutu grafiği ile göster\", viz_type=\"box\")\n",
    "\n",
    "if result.visualization:\n",
    "    import base64\n",
    "    from IPython.display import display, Image\n",
    "    image_data = base64.b64decode(result.visualization)\n",
    "    display(Image(data=image_data))\n",
    "else:\n",
    "    print(\"Görselleştirme verisi bulunamadı!\")"
   ]
  },
  {
   "cell_type": "markdown",
   "id": "f506fc6f",
   "metadata": {},
   "source": [
    "## 4. Tarih-Zaman Sütunları İçeren Verileri Test Etme\n",
    "\n",
    "Tarih-zaman sütunları içeren veri ile PandasOllama'nın davranışını test edelim:"
   ]
  },
  {
   "cell_type": "code",
   "execution_count": null,
   "id": "27aaed8d",
   "metadata": {},
   "outputs": [],
   "source": [
    "# Tarih-zaman içeren veri seti oluşturma\n",
    "from datetime import datetime, timedelta\n",
    "\n",
    "base_date = datetime(2023, 1, 1)\n",
    "dates = [(base_date + timedelta(days=i)).strftime('%Y-%m-%d') for i in range(10)]\n",
    "\n",
    "sales_date_data = {\n",
    "    'Product': ['Laptop', 'Telefon', 'Tablet', 'Monitör', 'Klavye', 'Mouse', 'Kulaklık', 'Şarj Aleti', 'Kamera', 'Hoparlör'],\n",
    "    'Category': ['Bilgisayar', 'Telefon', 'Tablet', 'Bilgisayar', 'Bilgisayar', 'Bilgisayar', 'Ses', 'Aksesuar', 'Fotoğraf', 'Ses'],\n",
    "    'SaleDate': dates,  # Tarih sütunu\n",
    "    'Price': [5000, 7500, 3000, 2000, 500, 250, 1000, 150, 3500, 750],\n",
    "    'SaleCount': [250, 380, 120, 85, 290, 320, 150, 400, 60, 95]\n",
    "}\n",
    "\n",
    "df_sales_date = pd.DataFrame(sales_date_data)\n",
    "df_sales_date"
   ]
  },
  {
   "cell_type": "code",
   "execution_count": null,
   "id": "31c4dfcb",
   "metadata": {},
   "outputs": [],
   "source": [
    "# Tarih sütunu içeren veri için MyPandasAI oluşturma\n",
    "print(\"Tarih sütunu otomatik olarak tespit edilecek ve dönüştürülecek...\")\n",
    "panoll_dates = MyPandasAI(df_sales_date, \n",
    "                         model=\"qwen2.5:7b\",\n",
    "                         timeout=30,\n",
    "                         save_history=False)"
   ]
  },
  {
   "cell_type": "code",
   "execution_count": null,
   "id": "85d5124c",
   "metadata": {},
   "outputs": [],
   "source": [
    "# Önbelleği temizle (önceki sonuçları kullanmamak için)\n",
    "panoll_dates.clear_cache()"
   ]
  },
  {
   "cell_type": "code",
   "execution_count": null,
   "id": "b12da0b9",
   "metadata": {},
   "outputs": [],
   "source": [
    "# Tarih ile ilgili bir sorgu\n",
    "result = panoll_dates.ask(\"Satışların tarihe göre dağılımı nasıl?\")\n",
    "print(result.content)"
   ]
  },
  {
   "cell_type": "code",
   "execution_count": null,
   "id": "8e555e2f",
   "metadata": {},
   "outputs": [],
   "source": [
    "# Tarih bazlı görselleştirme - Geliştirilmiş kod temizleme özelliğiyle\n",
    "result = panoll_dates.plot(\"Ürünlerin satış tarihlerine göre satış miktarlarını gösteren bir çizgi grafiği oluştur\", viz_type=\"line\")\n",
    "\n",
    "# Görselleştirmeyi görüntüle\n",
    "if result.visualization:\n",
    "    import base64\n",
    "    from IPython.display import display, Image\n",
    "    image_data = base64.b64decode(result.visualization)\n",
    "    display(Image(data=image_data))\n",
    "else:\n",
    "    print(\"Görselleştirme verisi bulunamadı!\")"
   ]
  },
  {
   "cell_type": "markdown",
   "id": "5b85c105",
   "metadata": {},
   "source": [
    "## 3. CSV Dosyası Yükleme - Genel Kullanım\n",
    "\n",
    "Kütüphane, herhangi bir CSV dosyasını yükleyip analiz edebilir:"
   ]
  },
  {
   "cell_type": "code",
   "execution_count": null,
   "id": "fb1fd9c7",
   "metadata": {},
   "outputs": [],
   "source": [
    "# CSV dosyası oluştur (örnek için)\n",
    "df_sales.to_csv('sales_data.csv', index=False)\n",
    "\n",
    "# CSV dosyasını yükle\n",
    "df_from_csv = pd.read_csv('sales_data.csv')\n",
    "print(f\"CSV dosyasından yüklenen veri: {df_from_csv.shape[0]} satır, {df_from_csv.shape[1]} sütun\")\n",
    "df_from_csv.head()"
   ]
  },
  {
   "cell_type": "code",
   "execution_count": null,
   "id": "ecfa2e68",
   "metadata": {},
   "outputs": [],
   "source": [
    "# CSV'den yüklenen veri için PandasOllama oluştur\n",
    "panoll_csv = MyPandasAI(df_from_csv, \n",
    "                        model=\"llama3:latest\", \n",
    "                        timeout=30, \n",
    "                        save_history=False)\n",
    "\n",
    "# CSV verisini analiz et\n",
    "result = panoll_csv.analyze(\"Bu veri setindeki stok ve fiyat ilişkisini analiz et\", viz_type=\"scatter\")\n",
    "\n",
    "# Sonuçları görüntüle\n",
    "print(result.content)\n",
    "\n",
    "# Görselleştirmeyi görüntüle\n",
    "if result.visualization:\n",
    "    import base64\n",
    "    from IPython.display import display, Image\n",
    "    image_data = base64.b64decode(result.visualization)\n",
    "    display(Image(data=image_data))\n",
    "else:\n",
    "    print(\"Görselleştirme verisi bulunamadı!\")"
   ]
  },
  {
   "cell_type": "markdown",
   "id": "514d8e56",
   "metadata": {},
   "source": [
    "## Özet\n",
    "\n",
    "PandasOllama kütüphanesi, herhangi bir CSV veri yapısı ile çalışabilir:\n",
    "\n",
    "1. **Veri Yapısı Esnekliği:** Farklı veri yapıları ve sütun isimleri ile çalışabilir\n",
    "2. **Akıllı Tespit:** Veri türlerini ve ilişkilerini otomatik olarak tanır\n",
    "3. **Doğal Dil İşleme:** Sorguları anlar ve uygun sütunları seçer\n",
    "4. **Görselleştirme:** Verinin yapısına uygun görselleştirmeleri otomatik oluşturur\n",
    "5. **Çoklu Görselleştirme Seçenekleri:** Bar, çizgi, scatter, histogram, kutu, count ve diğer grafik türleri\n",
    "6. **Tarih-Zaman Sütunları:** Tarih ve zaman içeren sütunları otomatik tespit eder ve uygun formatta dönüştürür\n",
    "7. **Sonuç Gösterimi:** Hesaplama sonuçlarını net ve açık bir şekilde gösterir\n",
    "8. **Güvenilir Kod Yürütme:** Markdown biçimindeki LLM yanıtlarını düzgün şekilde temizler ve çalıştırır\n",
    "\n",
    "Tüm bunlar, çok farklı CSV veri setlerinde bile kütüphanenin doğru çalışmasını sağlar."
   ]
  }
 ],
 "metadata": {
  "kernelspec": {
   "display_name": ".venv",
   "language": "python",
   "name": "python3"
  },
  "language_info": {
   "codemirror_mode": {
    "name": "ipython",
    "version": 3
   },
   "file_extension": ".py",
   "mimetype": "text/x-python",
   "name": "python",
   "nbconvert_exporter": "python",
   "pygments_lexer": "ipython3",
   "version": "3.13.2"
  }
 },
 "nbformat": 4,
 "nbformat_minor": 5
}
